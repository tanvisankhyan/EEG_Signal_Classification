{
  "nbformat": 4,
  "nbformat_minor": 0,
  "metadata": {
    "colab": {
      "provenance": []
    },
    "kernelspec": {
      "name": "python3",
      "display_name": "Python 3"
    },
    "language_info": {
      "name": "python"
    }
  },
  "cells": [
    {
      "cell_type": "code",
      "execution_count": null,
      "metadata": {
        "colab": {
          "base_uri": "https://localhost:8080/"
        },
        "id": "Zy0LnH8QuR-8",
        "outputId": "6e188c61-d37d-47b1-c0f2-b4d316e5e39e"
      },
      "outputs": [
        {
          "output_type": "stream",
          "name": "stdout",
          "text": [
            "Mounted at /content/drive/\n"
          ]
        }
      ],
      "source": [
        "import zipfile\n",
        "from google.colab import drive\n",
        "\n",
        "drive.mount('/content/drive/')"
      ]
    },
    {
      "cell_type": "code",
      "source": [
        "pwd"
      ],
      "metadata": {
        "colab": {
          "base_uri": "https://localhost:8080/",
          "height": 35
        },
        "id": "RxHglHS7-dJ7",
        "outputId": "b686794c-dadf-4286-a377-1e5ec33de82b"
      },
      "execution_count": null,
      "outputs": [
        {
          "output_type": "execute_result",
          "data": {
            "text/plain": [
              "'/content'"
            ],
            "application/vnd.google.colaboratory.intrinsic+json": {
              "type": "string"
            }
          },
          "metadata": {},
          "execution_count": 3
        }
      ]
    },
    {
      "cell_type": "code",
      "source": [
        "cd drive/MyDrive/BrainSignals/"
      ],
      "metadata": {
        "colab": {
          "base_uri": "https://localhost:8080/"
        },
        "id": "0qALq9wIuYFu",
        "outputId": "ad64b48e-55d4-4280-9aa5-b57f6dd70a9f"
      },
      "execution_count": null,
      "outputs": [
        {
          "output_type": "stream",
          "name": "stdout",
          "text": [
            "/content/drive/MyDrive/BrainSignals\n"
          ]
        }
      ]
    },
    {
      "cell_type": "code",
      "source": [],
      "metadata": {
        "id": "0qx5spR0jwxp"
      },
      "execution_count": null,
      "outputs": []
    },
    {
      "cell_type": "code",
      "execution_count": null,
      "metadata": {
        "id": "77414e84",
        "outputId": "724adc85-ac55-4431-8758-9477e732f654",
        "colab": {
          "base_uri": "https://localhost:8080/"
        }
      },
      "outputs": [
        {
          "output_type": "stream",
          "name": "stdout",
          "text": [
            "84420\n"
          ]
        }
      ],
      "source": [
        "import load_data\n",
        "\n",
        "BATCH_SIZE =84420\n",
        "# return DataSet class\n",
        "data = load_data.read_data_sets(one_hot=False)\n",
        "\n",
        "# get train data and labels by batch size\n",
        "X_train, Y_train = data.train.next_batch(BATCH_SIZE)\n",
        "\n",
        "# get test data\n",
        "X_test = data.test.data\n",
        "\n",
        "# get test labels\n",
        "Y_test = data.test.labels\n",
        "\n",
        "# get sample number\n",
        "n_samples = data.train.num_examples\n",
        "print(n_samples)\n"
      ]
    },
    {
      "cell_type": "code",
      "execution_count": null,
      "metadata": {
        "id": "399bda94",
        "outputId": "46c6194e-4026-441d-e4df-4cbaaba36a3a",
        "colab": {
          "base_uri": "https://localhost:8080/"
        }
      },
      "outputs": [
        {
          "output_type": "stream",
          "name": "stdout",
          "text": [
            "(84420, 310)\n",
            "(84420,)\n",
            "(58128, 310)\n",
            "(58128,)\n"
          ]
        }
      ],
      "source": [
        "print(X_train.shape)\n",
        "print(Y_train.shape)\n",
        "print(X_test.shape)\n",
        "print(Y_test.shape)\n"
      ]
    },
    {
      "cell_type": "code",
      "execution_count": null,
      "metadata": {
        "id": "5c35c8b1",
        "outputId": "f672baf8-1721-45ea-eefe-5f572074200c"
      },
      "outputs": [
        {
          "data": {
            "text/html": [
              "<style>#sk-container-id-2 {color: black;background-color: white;}#sk-container-id-2 pre{padding: 0;}#sk-container-id-2 div.sk-toggleable {background-color: white;}#sk-container-id-2 label.sk-toggleable__label {cursor: pointer;display: block;width: 100%;margin-bottom: 0;padding: 0.3em;box-sizing: border-box;text-align: center;}#sk-container-id-2 label.sk-toggleable__label-arrow:before {content: \"▸\";float: left;margin-right: 0.25em;color: #696969;}#sk-container-id-2 label.sk-toggleable__label-arrow:hover:before {color: black;}#sk-container-id-2 div.sk-estimator:hover label.sk-toggleable__label-arrow:before {color: black;}#sk-container-id-2 div.sk-toggleable__content {max-height: 0;max-width: 0;overflow: hidden;text-align: left;background-color: #f0f8ff;}#sk-container-id-2 div.sk-toggleable__content pre {margin: 0.2em;color: black;border-radius: 0.25em;background-color: #f0f8ff;}#sk-container-id-2 input.sk-toggleable__control:checked~div.sk-toggleable__content {max-height: 200px;max-width: 100%;overflow: auto;}#sk-container-id-2 input.sk-toggleable__control:checked~label.sk-toggleable__label-arrow:before {content: \"▾\";}#sk-container-id-2 div.sk-estimator input.sk-toggleable__control:checked~label.sk-toggleable__label {background-color: #d4ebff;}#sk-container-id-2 div.sk-label input.sk-toggleable__control:checked~label.sk-toggleable__label {background-color: #d4ebff;}#sk-container-id-2 input.sk-hidden--visually {border: 0;clip: rect(1px 1px 1px 1px);clip: rect(1px, 1px, 1px, 1px);height: 1px;margin: -1px;overflow: hidden;padding: 0;position: absolute;width: 1px;}#sk-container-id-2 div.sk-estimator {font-family: monospace;background-color: #f0f8ff;border: 1px dotted black;border-radius: 0.25em;box-sizing: border-box;margin-bottom: 0.5em;}#sk-container-id-2 div.sk-estimator:hover {background-color: #d4ebff;}#sk-container-id-2 div.sk-parallel-item::after {content: \"\";width: 100%;border-bottom: 1px solid gray;flex-grow: 1;}#sk-container-id-2 div.sk-label:hover label.sk-toggleable__label {background-color: #d4ebff;}#sk-container-id-2 div.sk-serial::before {content: \"\";position: absolute;border-left: 1px solid gray;box-sizing: border-box;top: 0;bottom: 0;left: 50%;z-index: 0;}#sk-container-id-2 div.sk-serial {display: flex;flex-direction: column;align-items: center;background-color: white;padding-right: 0.2em;padding-left: 0.2em;position: relative;}#sk-container-id-2 div.sk-item {position: relative;z-index: 1;}#sk-container-id-2 div.sk-parallel {display: flex;align-items: stretch;justify-content: center;background-color: white;position: relative;}#sk-container-id-2 div.sk-item::before, #sk-container-id-2 div.sk-parallel-item::before {content: \"\";position: absolute;border-left: 1px solid gray;box-sizing: border-box;top: 0;bottom: 0;left: 50%;z-index: -1;}#sk-container-id-2 div.sk-parallel-item {display: flex;flex-direction: column;z-index: 1;position: relative;background-color: white;}#sk-container-id-2 div.sk-parallel-item:first-child::after {align-self: flex-end;width: 50%;}#sk-container-id-2 div.sk-parallel-item:last-child::after {align-self: flex-start;width: 50%;}#sk-container-id-2 div.sk-parallel-item:only-child::after {width: 0;}#sk-container-id-2 div.sk-dashed-wrapped {border: 1px dashed gray;margin: 0 0.4em 0.5em 0.4em;box-sizing: border-box;padding-bottom: 0.4em;background-color: white;}#sk-container-id-2 div.sk-label label {font-family: monospace;font-weight: bold;display: inline-block;line-height: 1.2em;}#sk-container-id-2 div.sk-label-container {text-align: center;}#sk-container-id-2 div.sk-container {/* jupyter's `normalize.less` sets `[hidden] { display: none; }` but bootstrap.min.css set `[hidden] { display: none !important; }` so we also need the `!important` here to be able to override the default hidden behavior on the sphinx rendered scikit-learn.org. See: https://github.com/scikit-learn/scikit-learn/issues/21755 */display: inline-block !important;position: relative;}#sk-container-id-2 div.sk-text-repr-fallback {display: none;}</style><div id=\"sk-container-id-2\" class=\"sk-top-container\"><div class=\"sk-text-repr-fallback\"><pre>RandomForestClassifier(n_estimators=50, random_state=42)</pre><b>In a Jupyter environment, please rerun this cell to show the HTML representation or trust the notebook. <br />On GitHub, the HTML representation is unable to render, please try loading this page with nbviewer.org.</b></div><div class=\"sk-container\" hidden><div class=\"sk-item\"><div class=\"sk-estimator sk-toggleable\"><input class=\"sk-toggleable__control sk-hidden--visually\" id=\"sk-estimator-id-2\" type=\"checkbox\" checked><label for=\"sk-estimator-id-2\" class=\"sk-toggleable__label sk-toggleable__label-arrow\">RandomForestClassifier</label><div class=\"sk-toggleable__content\"><pre>RandomForestClassifier(n_estimators=50, random_state=42)</pre></div></div></div></div></div>"
            ],
            "text/plain": [
              "RandomForestClassifier(n_estimators=50, random_state=42)"
            ]
          },
          "execution_count": 18,
          "metadata": {},
          "output_type": "execute_result"
        }
      ],
      "source": [
        "from sklearn.ensemble import RandomForestClassifier\n",
        "\n",
        "X_train = train_x[solutions[0][0]]\n",
        "rf1 = RandomForestClassifier(n_estimators = 50, criterion = 'gini', random_state = 42)\n",
        "rf1.fit(X_train, Y_train.values.ravel())\n",
        "\n",
        "X_train = train_x[solutions[0][1]]\n",
        "rf2 = RandomForestClassifier(n_estimators = 50, criterion = 'gini', random_state = 42)\n",
        "rf2.fit(X_train, Y_train.values.ravel())\n",
        "\n",
        "X_train = train_x[solutions[0][2]]\n",
        "rf3 = RandomForestClassifier(n_estimators = 50, criterion = 'gini', random_state = 42)\n",
        "rf3.fit(X_train, Y_train.values.ravel())"
      ]
    },
    {
      "cell_type": "code",
      "execution_count": null,
      "metadata": {
        "id": "e4106081",
        "outputId": "4c1bd103-ff59-4e56-9190-fa9be157970f"
      },
      "outputs": [
        {
          "name": "stdout",
          "output_type": "stream",
          "text": [
            "Test results:\n",
            "\n",
            "Accuracy Score: 0.7881\n",
            "\n",
            "Classification Report:\n",
            "              precision    recall  f1-score   support\n",
            "\n",
            "           0       0.72      0.69      0.71     18438\n",
            "           1       0.77      0.76      0.77     19740\n",
            "           2       0.86      0.90      0.88     19950\n",
            "\n",
            "    accuracy                           0.79     58128\n",
            "   macro avg       0.78      0.79      0.78     58128\n",
            "weighted avg       0.79      0.79      0.79     58128\n",
            "\n",
            "\n",
            "Confusion Matrix:\n",
            "[[12763  3620  2055]\n",
            " [ 3818 15033   889]\n",
            " [ 1036   900 18014]]\n",
            "\n"
          ]
        }
      ],
      "source": [
        "# testing accuracy\n",
        "\n",
        "X_test =  test_x[solutions[0][0]]\n",
        "\n",
        "print_score(rf1,X_train,Y_train.values.ravel(),X_test,Y_test.values.ravel(),train=False)"
      ]
    },
    {
      "cell_type": "code",
      "execution_count": null,
      "metadata": {
        "id": "102f3aaa",
        "outputId": "51e3e792-6d7c-451c-f2a2-a83de59031ba"
      },
      "outputs": [
        {
          "name": "stdout",
          "output_type": "stream",
          "text": [
            "Test results:\n",
            "\n",
            "Accuracy Score: 0.7861\n",
            "\n",
            "Classification Report:\n",
            "              precision    recall  f1-score   support\n",
            "\n",
            "           0       0.72      0.68      0.70     18438\n",
            "           1       0.77      0.77      0.77     19740\n",
            "           2       0.85      0.90      0.88     19950\n",
            "\n",
            "    accuracy                           0.79     58128\n",
            "   macro avg       0.78      0.78      0.78     58128\n",
            "weighted avg       0.78      0.79      0.78     58128\n",
            "\n",
            "\n",
            "Confusion Matrix:\n",
            "[[12531  3782  2125]\n",
            " [ 3624 15152   964]\n",
            " [ 1194   747 18009]]\n",
            "\n"
          ]
        }
      ],
      "source": [
        "# testing accuracy\n",
        "\n",
        "X_test =  test_x[solutions[0][1]]\n",
        "\n",
        "print_score(rf2,X_train,Y_train.values.ravel(),X_test,Y_test.values.ravel(),train=False)"
      ]
    },
    {
      "cell_type": "code",
      "execution_count": null,
      "metadata": {
        "id": "948f89a1",
        "outputId": "dd0ef93c-ff77-4339-dc05-815698040bd3"
      },
      "outputs": [
        {
          "name": "stdout",
          "output_type": "stream",
          "text": [
            "Test results:\n",
            "\n",
            "Accuracy Score: 0.7824\n",
            "\n",
            "Classification Report:\n",
            "              precision    recall  f1-score   support\n",
            "\n",
            "           0       0.72      0.67      0.70     18438\n",
            "           1       0.76      0.77      0.76     19740\n",
            "           2       0.86      0.90      0.88     19950\n",
            "\n",
            "    accuracy                           0.78     58128\n",
            "   macro avg       0.78      0.78      0.78     58128\n",
            "weighted avg       0.78      0.78      0.78     58128\n",
            "\n",
            "\n",
            "Confusion Matrix:\n",
            "[[12426  3939  2073]\n",
            " [ 3643 15136   961]\n",
            " [ 1162   868 17920]]\n",
            "\n"
          ]
        }
      ],
      "source": [
        "# testing accuracy\n",
        "\n",
        "X_test =  test_x[solutions[0][2]]\n",
        "\n",
        "print_score(rf3,X_train,Y_train.values.ravel(),X_test,Y_test.values.ravel(),train=False)"
      ]
    },
    {
      "cell_type": "code",
      "source": [
        "acc1=0.7881\n",
        "acc2=0.7861\n",
        "acc3=0.7824\n",
        "print(\"Average Accuracy: {}\".format((acc1+acc2+acc3)/3))"
      ],
      "metadata": {
        "colab": {
          "base_uri": "https://localhost:8080/"
        },
        "id": "lOum76H9o3in",
        "outputId": "095dbcf2-863d-4fca-815c-858a15306f8a"
      },
      "execution_count": null,
      "outputs": [
        {
          "output_type": "stream",
          "name": "stdout",
          "text": [
            "Average Accuracy: 0.7855333333333334\n"
          ]
        }
      ]
    }
  ]
}