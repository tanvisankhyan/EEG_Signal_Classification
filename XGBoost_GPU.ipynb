{
  "nbformat": 4,
  "nbformat_minor": 0,
  "metadata": {
    "colab": {
      "provenance": []
    },
    "kernelspec": {
      "name": "python3",
      "display_name": "Python 3"
    },
    "language_info": {
      "name": "python"
    },
    "accelerator": "GPU",
    "gpuClass": "standard"
  },
  "cells": [
    {
      "cell_type": "code",
      "execution_count": null,
      "metadata": {
        "colab": {
          "base_uri": "https://localhost:8080/"
        },
        "id": "Zy0LnH8QuR-8",
        "outputId": "6ff6904d-6739-4931-9d20-0e909941c014"
      },
      "outputs": [
        {
          "output_type": "stream",
          "name": "stdout",
          "text": [
            "Mounted at /content/drive/\n"
          ]
        }
      ],
      "source": [
        "import zipfile\n",
        "from google.colab import drive\n",
        "\n",
        "drive.mount('/content/drive/')"
      ]
    },
    {
      "cell_type": "code",
      "source": [
        "pwd"
      ],
      "metadata": {
        "colab": {
          "base_uri": "https://localhost:8080/",
          "height": 35
        },
        "id": "RxHglHS7-dJ7",
        "outputId": "c3d9ed62-63eb-40b3-f647-38896f62c0e5"
      },
      "execution_count": null,
      "outputs": [
        {
          "output_type": "execute_result",
          "data": {
            "text/plain": [
              "'/content'"
            ],
            "application/vnd.google.colaboratory.intrinsic+json": {
              "type": "string"
            }
          },
          "metadata": {},
          "execution_count": 3
        }
      ]
    },
    {
      "cell_type": "code",
      "source": [
        "cd drive/MyDrive/BrainSignals/"
      ],
      "metadata": {
        "colab": {
          "base_uri": "https://localhost:8080/"
        },
        "id": "0qALq9wIuYFu",
        "outputId": "8b488b27-05c7-40ce-837a-95d655a4a6ca"
      },
      "execution_count": null,
      "outputs": [
        {
          "output_type": "stream",
          "name": "stdout",
          "text": [
            "/content/drive/MyDrive/BrainSignals\n"
          ]
        }
      ]
    },
    {
      "cell_type": "markdown",
      "source": [
        "\n",
        "\n",
        "```\n",
        "# Rename the unzipped dataset file to \"data\"\n",
        "```\n",
        "\n"
      ],
      "metadata": {
        "id": "0XFFCwQnND-k"
      }
    },
    {
      "cell_type": "code",
      "source": [
        "import load_data\n",
        "\n",
        "BATCH_SIZE =84420\n",
        "# return DataSet class\n",
        "data = load_data.read_data_sets(one_hot=False)\n",
        "\n",
        "# get train data and labels by batch size\n",
        "train_x, train_y = data.train.next_batch(BATCH_SIZE)\n",
        "# get test data\n",
        "test_x = data.test.data\n",
        "\n",
        "# get test labels\n",
        "test_y = data.test.labels\n",
        "\n",
        "# get sample number\n",
        "n_samples = data.train.num_examples\n",
        "print(n_samples)"
      ],
      "metadata": {
        "colab": {
          "base_uri": "https://localhost:8080/"
        },
        "id": "8g8Z6o38ueMT",
        "outputId": "e3aff487-c2bc-4402-c144-0817141053c2"
      },
      "execution_count": null,
      "outputs": [
        {
          "output_type": "stream",
          "name": "stdout",
          "text": [
            "84420\n"
          ]
        }
      ]
    },
    {
      "cell_type": "code",
      "source": [
        "print(train_x.shape)\n",
        "print(train_y.shape)\n",
        "print(test_x.shape)\n",
        "print(test_y.shape)\n"
      ],
      "metadata": {
        "id": "fQ2fOfQKYRkb",
        "colab": {
          "base_uri": "https://localhost:8080/"
        },
        "outputId": "d6291f13-3244-468f-96f2-6e5fea901000"
      },
      "execution_count": null,
      "outputs": [
        {
          "output_type": "stream",
          "name": "stdout",
          "text": [
            "(84420, 310)\n",
            "(84420,)\n",
            "(58128, 310)\n",
            "(58128,)\n"
          ]
        }
      ]
    },
    {
      "cell_type": "markdown",
      "source": [
        "\n",
        "\n",
        "```\n",
        "# First Training\n",
        "```\n",
        "\n"
      ],
      "metadata": {
        "id": "bzb_afDdMuOD"
      }
    },
    {
      "cell_type": "code",
      "source": [
        "import numpy as np\n",
        "mu, sigma = 0, 0.1 \n",
        "noise = np.random.normal(mu, sigma, train_x.shape)\n",
        "train_x = train_x + noise"
      ],
      "metadata": {
        "id": "vugiihq1PBWS"
      },
      "execution_count": null,
      "outputs": []
    },
    {
      "cell_type": "code",
      "source": [
        "from sklearn.preprocessing import LabelEncoder\n",
        "import time\n",
        "le = LabelEncoder()\n",
        "train_y = le.fit_transform(train_y)\n",
        "from xgboost import XGBClassifier\n",
        "classifier1 = XGBClassifier()\n",
        "classifier2 = XGBClassifier()\n",
        "classifier3 = XGBClassifier()\n",
        "print(\"Model - 1\")\n",
        "st=time.time()\n",
        "classifier1.fit(train_x, train_y)\n",
        "et=time.time()\n",
        "time_elasped = (et - st)/60\n",
        "print('Execution time:', time_elasped, 'min')\n",
        "print(\"Model - 2\")\n",
        "st=time.time()\n",
        "classifier2.fit(train_x, train_y)\n",
        "time_elasped = (et - st)/60\n",
        "print('Execution time:', time_elasped, 'min')\n",
        "print(\"Model - 3\")\n",
        "st=time.time()\n",
        "classifier3.fit(train_x, train_y)\n",
        "time_elasped = (et - st)/60\n",
        "print('Execution time:', time_elasped, 'min')"
      ],
      "metadata": {
        "id": "9Ks5LdzXMAuz",
        "colab": {
          "base_uri": "https://localhost:8080/"
        },
        "outputId": "13a6027f-ca35-40e9-93dd-380521fa840c"
      },
      "execution_count": null,
      "outputs": [
        {
          "output_type": "stream",
          "name": "stdout",
          "text": [
            "Model - 1\n",
            "Execution time: 25.010663112004597 seconds\n",
            "Model - 2\n",
            "Execution time: -6.643931070963542e-06 seconds\n",
            "Model - 3\n",
            "Execution time: -22.52832684914271 seconds\n"
          ]
        }
      ]
    },
    {
      "cell_type": "code",
      "metadata": {
        "id": "SUSZ3zm_7gRD",
        "colab": {
          "base_uri": "https://localhost:8080/"
        },
        "outputId": "01c684aa-5ed4-4723-ad83-0ab01b94987b"
      },
      "source": [
        "from sklearn.metrics import confusion_matrix, accuracy_score\n",
        "print(\"Model - 1\")\n",
        "pred_y1 = classifier1.predict(test_x)\n",
        "cm1 = confusion_matrix(test_y, pred_y1)\n",
        "print(cm1)\n",
        "acc1=accuracy_score(test_y, pred_y1)\n",
        "print(acc1)\n",
        "print(\"Model - 2\")\n",
        "pred_y2 = classifier2.predict(test_x)\n",
        "cm2 = confusion_matrix(test_y, pred_y2)\n",
        "print(cm2)\n",
        "acc2=accuracy_score(test_y, pred_y2)\n",
        "print(acc2)\n",
        "print(\"Model - 3\")\n",
        "pred_y3 = classifier3.predict(test_x)\n",
        "cm3 = confusion_matrix(test_y, pred_y3)\n",
        "print(cm3)\n",
        "acc3=accuracy_score(test_y, pred_y3)\n",
        "print(acc3)"
      ],
      "execution_count": null,
      "outputs": [
        {
          "output_type": "stream",
          "name": "stdout",
          "text": [
            "Model - 1\n",
            "[[10892  4852  2694]\n",
            " [ 1915 16934   891]\n",
            " [  905   582 18463]]\n",
            "0.7963287916322599\n",
            "Model - 2\n",
            "[[10892  4852  2694]\n",
            " [ 1915 16934   891]\n",
            " [  905   582 18463]]\n",
            "0.7963287916322599\n",
            "Model - 3\n",
            "[[10892  4852  2694]\n",
            " [ 1915 16934   891]\n",
            " [  905   582 18463]]\n",
            "0.7963287916322599\n"
          ]
        }
      ]
    },
    {
      "cell_type": "code",
      "source": [
        "from sklearn.model_selection import cross_val_predict, cross_val_score\n",
        "from sklearn.metrics import confusion_matrix,classification_report,accuracy_score\n",
        "\n",
        "def print_score(classifier,X_train,y_train,X_test,y_test,train=True):\n",
        "    if train == True:\n",
        "        print(\"Training results:\\n\")\n",
        "        print('Accuracy Score: {0:.4f}\\n'.format(accuracy_score(y_train,classifier1.predict(X_train))))\n",
        "        print('Classification Report:\\n{}\\n'.format(classification_report(y_train,classifier1.predict(X_train))))\n",
        "        print('Confusion Matrix:\\n{}\\n'.format(confusion_matrix(y_train,classifier1.predict(X_train))))\n",
        "        res = cross_val_score(classifier, X_train, y_train, cv=10, n_jobs=-1, scoring='accuracy')\n",
        "        print('Average Accuracy:\\t{0:.4f}\\n'.format(res.mean()))\n",
        "        print('Standard Deviation:\\t{0:.4f}'.format(res.std()))\n",
        "    elif train == False:\n",
        "        print(\"Test results:\\n\")\n",
        "        print('Accuracy Score: {0:.4f}\\n'.format(accuracy_score(y_test,classifier1.predict(X_test))))\n",
        "        print('Classification Report:\\n{}\\n'.format(classification_report(y_test,classifier1.predict(X_test))))\n",
        "        print('Confusion Matrix:\\n{}\\n'.format(confusion_matrix(y_test,classifier1.predict(X_test))))\n",
        "\n",
        "def print_score(classifier,X_train,y_train,X_test,y_test,train=True):\n",
        "    if train == True:\n",
        "        print(\"Training results:\\n\")\n",
        "        print('Accuracy Score: {0:.4f}\\n'.format(accuracy_score(y_train,classifier2.predict(X_train))))\n",
        "        print('Classification Report:\\n{}\\n'.format(classification_report(y_train,classifier2.predict(X_train))))\n",
        "        print('Confusion Matrix:\\n{}\\n'.format(confusion_matrix(y_train,classifier2.predict(X_train))))\n",
        "        res = cross_val_score(classifier2, X_train, y_train, cv=10, n_jobs=-1, scoring='accuracy')\n",
        "        print('Average Accuracy:\\t{0:.4f}\\n'.format(res.mean()))\n",
        "        print('Standard Deviation:\\t{0:.4f}'.format(res.std()))\n",
        "    elif train == False:\n",
        "        print(\"Test results:\\n\")\n",
        "        print('Accuracy Score: {0:.4f}\\n'.format(accuracy_score(y_test,classifier2.predict(X_test))))\n",
        "        print('Classification Report:\\n{}\\n'.format(classification_report(y_test,classifier2.predict(X_test))))\n",
        "        print('Confusion Matrix:\\n{}\\n'.format(confusion_matrix(y_test,classifier2.predict(X_test))))\n",
        "\n",
        "def print_score(classifier,X_train,y_train,X_test,y_test,train=True):\n",
        "    if train == True:\n",
        "        print(\"Training results:\\n\")\n",
        "        print('Accuracy Score: {0:.4f}\\n'.format(accuracy_score(y_train,classifier3.predict(X_train))))\n",
        "        print('Classification Report:\\n{}\\n'.format(classification_report(y_train,classifier3.predict(X_train))))\n",
        "        print('Confusion Matrix:\\n{}\\n'.format(confusion_matrix(y_train,classifier3.predict(X_train))))\n",
        "        res = cross_val_score(classifier3, X_train, y_train, cv=10, n_jobs=-1, scoring='accuracy')\n",
        "        print('Average Accuracy:\\t{0:.4f}\\n'.format(res.mean()))\n",
        "        print('Standard Deviation:\\t{0:.4f}'.format(res.std()))\n",
        "    elif train == False:\n",
        "        print(\"Test results:\\n\")\n",
        "        print('Accuracy Score: {0:.4f}\\n'.format(accuracy_score(y_test,classifier3.predict(X_test))))\n",
        "        print('Classification Report:\\n{}\\n'.format(classification_report(y_test,classifier3.predict(X_test))))\n",
        "        print('Confusion Matrix:\\n{}\\n'.format(confusion_matrix(y_test,classifier3.predict(X_test))))"
      ],
      "metadata": {
        "id": "LkLYLXQVQf8r"
      },
      "execution_count": null,
      "outputs": []
    },
    {
      "cell_type": "code",
      "source": [
        "print_score(classifier1,train_x,train_y,test_x,test_y,train=False)"
      ],
      "metadata": {
        "id": "0YR5bG4y48oY",
        "colab": {
          "base_uri": "https://localhost:8080/"
        },
        "outputId": "a93db7c9-eb22-4842-be9d-63c47ade65f4"
      },
      "execution_count": null,
      "outputs": [
        {
          "output_type": "stream",
          "name": "stdout",
          "text": [
            "Test results:\n",
            "\n",
            "Accuracy Score: 0.7988\n",
            "\n",
            "Classification Report:\n",
            "              precision    recall  f1-score   support\n",
            "\n",
            "           0       0.81      0.59      0.69     18438\n",
            "           1       0.76      0.86      0.80     19740\n",
            "           2       0.83      0.93      0.88     19950\n",
            "\n",
            "    accuracy                           0.80     58128\n",
            "   macro avg       0.80      0.79      0.79     58128\n",
            "weighted avg       0.80      0.80      0.79     58128\n",
            "\n",
            "\n",
            "Confusion Matrix:\n",
            "[[10929  4793  2716]\n",
            " [ 1775 16920  1045]\n",
            " [  755   612 18583]]\n",
            "\n"
          ]
        }
      ]
    },
    {
      "cell_type": "code",
      "source": [
        "print_score(classifier2,train_x,train_y,test_x,test_y,train=False)"
      ],
      "metadata": {
        "colab": {
          "base_uri": "https://localhost:8080/"
        },
        "id": "hLTpFWCP2Max",
        "outputId": "31d685d7-a998-4863-aee9-6f4c2cea9e85"
      },
      "execution_count": null,
      "outputs": [
        {
          "output_type": "stream",
          "name": "stdout",
          "text": [
            "Test results:\n",
            "\n",
            "Accuracy Score: 0.7963\n",
            "\n",
            "Classification Report:\n",
            "              precision    recall  f1-score   support\n",
            "\n",
            "           0       0.79      0.59      0.68     18438\n",
            "           1       0.76      0.86      0.80     19740\n",
            "           2       0.84      0.93      0.88     19950\n",
            "\n",
            "    accuracy                           0.80     58128\n",
            "   macro avg       0.80      0.79      0.79     58128\n",
            "weighted avg       0.80      0.80      0.79     58128\n",
            "\n",
            "\n",
            "Confusion Matrix:\n",
            "[[10892  4852  2694]\n",
            " [ 1915 16934   891]\n",
            " [  905   582 18463]]\n",
            "\n"
          ]
        }
      ]
    },
    {
      "cell_type": "code",
      "source": [
        "print_score(classifier3,train_x,train_y,test_x,test_y,train=False)"
      ],
      "metadata": {
        "colab": {
          "base_uri": "https://localhost:8080/"
        },
        "id": "m4f3ugN82MMF",
        "outputId": "3d124f66-d9ae-4e28-f50f-3e3ffa4c0259"
      },
      "execution_count": null,
      "outputs": [
        {
          "output_type": "stream",
          "name": "stdout",
          "text": [
            "Test results:\n",
            "\n",
            "Accuracy Score: 0.7963\n",
            "\n",
            "Classification Report:\n",
            "              precision    recall  f1-score   support\n",
            "\n",
            "           0       0.79      0.59      0.68     18438\n",
            "           1       0.76      0.86      0.80     19740\n",
            "           2       0.84      0.93      0.88     19950\n",
            "\n",
            "    accuracy                           0.80     58128\n",
            "   macro avg       0.80      0.79      0.79     58128\n",
            "weighted avg       0.80      0.80      0.79     58128\n",
            "\n",
            "\n",
            "Confusion Matrix:\n",
            "[[10892  4852  2694]\n",
            " [ 1915 16934   891]\n",
            " [  905   582 18463]]\n",
            "\n"
          ]
        }
      ]
    },
    {
      "cell_type": "code",
      "source": [
        "print(\"Average accuracy: {}\".format((acc1+acc2+acc3)/3))"
      ],
      "metadata": {
        "colab": {
          "base_uri": "https://localhost:8080/"
        },
        "id": "pNFcLhR-467d",
        "outputId": "ffc45835-6dd5-48a4-c3a7-c64fbf02989e"
      },
      "execution_count": null,
      "outputs": [
        {
          "output_type": "stream",
          "name": "stdout",
          "text": [
            "Average accuracy: 0.7963287916322598\n"
          ]
        }
      ]
    },
    {
      "cell_type": "code",
      "source": [],
      "metadata": {
        "id": "yMbpBoUOzP0d"
      },
      "execution_count": null,
      "outputs": []
    }
  ]
}