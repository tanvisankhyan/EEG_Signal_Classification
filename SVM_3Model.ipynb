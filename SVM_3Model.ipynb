{
  "nbformat": 4,
  "nbformat_minor": 0,
  "metadata": {
    "colab": {
      "provenance": []
    },
    "kernelspec": {
      "name": "python3",
      "display_name": "Python 3"
    },
    "language_info": {
      "name": "python"
    }
  },
  "cells": [
    {
      "cell_type": "code",
      "execution_count": null,
      "metadata": {
        "colab": {
          "base_uri": "https://localhost:8080/"
        },
        "id": "Zy0LnH8QuR-8",
        "outputId": "fa10d4bb-3a80-4f5d-ff57-1f1166af7174"
      },
      "outputs": [
        {
          "output_type": "stream",
          "name": "stdout",
          "text": [
            "Mounted at /content/drive/\n"
          ]
        }
      ],
      "source": [
        "import zipfile\n",
        "from google.colab import drive\n",
        "\n",
        "drive.mount('/content/drive/')"
      ]
    },
    {
      "cell_type": "code",
      "source": [
        "pwd"
      ],
      "metadata": {
        "colab": {
          "base_uri": "https://localhost:8080/",
          "height": 35
        },
        "id": "RxHglHS7-dJ7",
        "outputId": "70f32f50-3c68-4f77-9f86-d0204b5414dc"
      },
      "execution_count": null,
      "outputs": [
        {
          "output_type": "execute_result",
          "data": {
            "text/plain": [
              "'/content'"
            ],
            "application/vnd.google.colaboratory.intrinsic+json": {
              "type": "string"
            }
          },
          "metadata": {},
          "execution_count": 3
        }
      ]
    },
    {
      "cell_type": "code",
      "source": [
        "cd drive/MyDrive/BrainSignals/"
      ],
      "metadata": {
        "colab": {
          "base_uri": "https://localhost:8080/"
        },
        "id": "0qALq9wIuYFu",
        "outputId": "7151b94d-2e51-466c-fe5c-20c24032b848"
      },
      "execution_count": null,
      "outputs": [
        {
          "output_type": "stream",
          "name": "stdout",
          "text": [
            "/content/drive/MyDrive/BrainSignals\n"
          ]
        }
      ]
    },
    {
      "cell_type": "code",
      "execution_count": null,
      "metadata": {
        "id": "77414e84",
        "outputId": "37456954-7b65-437b-e123-3aedf1cbeb4b",
        "colab": {
          "base_uri": "https://localhost:8080/"
        }
      },
      "outputs": [
        {
          "output_type": "stream",
          "name": "stdout",
          "text": [
            "84420\n"
          ]
        }
      ],
      "source": [
        "import load_data\n",
        "\n",
        "BATCH_SIZE =84420\n",
        "# return DataSet class\n",
        "data = load_data.read_data_sets(one_hot=False)\n",
        "\n",
        "# get train data and labels by batch size\n",
        "train_x, train_label = data.train.next_batch(BATCH_SIZE)\n",
        "# get test data\n",
        "test_x = data.test.data\n",
        "\n",
        "# get test labels\n",
        "test_label = data.test.labels\n",
        "\n",
        "# get sample number\n",
        "n_samples = data.train.num_examples\n",
        "print(n_samples)\n"
      ]
    },
    {
      "cell_type": "code",
      "execution_count": null,
      "metadata": {
        "id": "399bda94",
        "outputId": "c48e3813-40cf-428c-c3e3-d2238bc33c03",
        "colab": {
          "base_uri": "https://localhost:8080/"
        }
      },
      "outputs": [
        {
          "output_type": "stream",
          "name": "stdout",
          "text": [
            "0\n",
            "(84420, 310)\n",
            "(84420,)\n"
          ]
        }
      ],
      "source": [
        "print(data.train.epochs_completed)\n",
        "train_x, train_label = data.train.next_batch(BATCH_SIZE)\n",
        "\n",
        "print(train_x.shape)\n",
        "print(train_label.shape)\n",
        "X_train = train_x\n",
        "Y_train = train_label\n",
        "\n",
        "X_test = test_x\n",
        "Y_test = test_label\n"
      ]
    },
    {
      "cell_type": "code",
      "execution_count": null,
      "metadata": {
        "id": "3f93b9b3"
      },
      "outputs": [],
      "source": []
    },
    {
      "cell_type": "code",
      "execution_count": null,
      "metadata": {
        "id": "813690c4",
        "outputId": "ad82c8ec-b370-4f31-8021-49d0c723caec",
        "colab": {
          "base_uri": "https://localhost:8080/"
        }
      },
      "outputs": [
        {
          "output_type": "stream",
          "name": "stdout",
          "text": [
            "(84420, 100)\n",
            "<class 'numpy.ndarray'>\n"
          ]
        }
      ],
      "source": [
        "from sklearn.decomposition import PCA\n",
        "pca = PCA(n_components=100)# adjust yourself\n",
        "pca.fit(train_x)\n",
        "X_train = pca.transform(X_train)\n",
        "X_test = pca.transform(X_test)\n",
        "print(X_train.shape)\n",
        "\n",
        "print(type(X_train))"
      ]
    },
    {
      "cell_type": "code",
      "execution_count": null,
      "metadata": {
        "id": "b99147c8",
        "colab": {
          "base_uri": "https://localhost:8080/"
        },
        "outputId": "04226267-626c-4274-e489-7c8fcbf0fd23"
      },
      "outputs": [
        {
          "output_type": "stream",
          "name": "stdout",
          "text": [
            "Looking in indexes: https://pypi.org/simple, https://us-python.pkg.dev/colab-wheels/public/simple/\n",
            "Requirement already satisfied: Cython in /usr/local/lib/python3.9/dist-packages (0.29.33)\n",
            "Looking in indexes: https://pypi.org/simple, https://us-python.pkg.dev/colab-wheels/public/simple/\n",
            "Collecting pymrmre\n",
            "  Downloading pymrmre-1.0.7.tar.gz (18.5 MB)\n",
            "\u001b[2K     \u001b[90m━━━━━━━━━━━━━━━━━━━━━━━━━━━━━━━━━━━━━━━━\u001b[0m \u001b[32m18.5/18.5 MB\u001b[0m \u001b[31m9.0 MB/s\u001b[0m eta \u001b[36m0:00:00\u001b[0m\n",
            "\u001b[?25h  Preparing metadata (setup.py) ... \u001b[?25l\u001b[?25hdone\n",
            "Requirement already satisfied: numpy in /usr/local/lib/python3.9/dist-packages (from pymrmre) (1.22.4)\n",
            "Requirement already satisfied: pandas in /usr/local/lib/python3.9/dist-packages (from pymrmre) (1.4.4)\n",
            "Requirement already satisfied: scipy in /usr/local/lib/python3.9/dist-packages (from pymrmre) (1.10.1)\n",
            "Requirement already satisfied: python-dateutil>=2.8.1 in /usr/local/lib/python3.9/dist-packages (from pandas->pymrmre) (2.8.2)\n",
            "Requirement already satisfied: pytz>=2020.1 in /usr/local/lib/python3.9/dist-packages (from pandas->pymrmre) (2022.7.1)\n",
            "Requirement already satisfied: six>=1.5 in /usr/local/lib/python3.9/dist-packages (from python-dateutil>=2.8.1->pandas->pymrmre) (1.16.0)\n",
            "Building wheels for collected packages: pymrmre\n",
            "  Building wheel for pymrmre (setup.py) ... \u001b[?25l\u001b[?25hdone\n",
            "  Created wheel for pymrmre: filename=pymrmre-1.0.7-cp39-cp39-linux_x86_64.whl size=408614 sha256=9f31770ab8d07bc119a07f6f90cf3a76021d77a540234a19535e079abae2dce0\n",
            "  Stored in directory: /root/.cache/pip/wheels/6f/a0/83/77e470a95cfdc1d7ba3079e58cc9ed39b2118936f264c96617\n",
            "Successfully built pymrmre\n",
            "Installing collected packages: pymrmre\n",
            "Successfully installed pymrmre-1.0.7\n"
          ]
        }
      ],
      "source": [
        "!pip install Cython\n",
        "!pip3 install pymrmre"
      ]
    },
    {
      "cell_type": "code",
      "execution_count": null,
      "metadata": {
        "id": "100b46b9",
        "colab": {
          "base_uri": "https://localhost:8080/"
        },
        "outputId": "903251c1-7ca4-4cbf-d77c-8adae0e8453f"
      },
      "outputs": [
        {
          "output_type": "stream",
          "name": "stdout",
          "text": [
            "              f0         f1         f2         f3         f4         f5  \\\n",
            "0      26.806091  26.866707  26.501648  25.566511  25.193199  27.874976   \n",
            "1      26.614203  26.814353  26.979892  25.490977  26.379157  27.025772   \n",
            "2      24.265662  24.258697  25.145599  24.239400  24.156880  24.858392   \n",
            "3      24.538697  24.767115  25.294580  24.065448  24.584059  25.082566   \n",
            "4      25.833926  25.671698  25.565475  25.123262  24.892601  26.204494   \n",
            "...          ...        ...        ...        ...        ...        ...   \n",
            "84415  26.376381  26.018134  25.951905  25.464171  24.961938  26.688813   \n",
            "84416  25.481061  25.340918  25.460429  24.632501  24.683716  25.942102   \n",
            "84417  27.328086  28.052501  27.159021  26.007431  26.288843  27.848905   \n",
            "84418  25.109914  24.903373  25.187650  24.476838  24.206152  25.633163   \n",
            "84419  24.757580  24.745625  25.554893  24.747519  24.605078  24.700008   \n",
            "\n",
            "              f6         f7         f8         f9  ...       f300       f301  \\\n",
            "0      26.456464  25.517741  25.152768  24.976046  ...  17.186961  16.226709   \n",
            "1      26.417032  25.908030  25.110896  25.078729  ...  18.012275  16.035174   \n",
            "2      24.802865  23.589547  22.978465  23.169138  ...  17.522885  16.424500   \n",
            "3      24.205974  23.879547  23.514574  23.720395  ...  15.958635  16.095383   \n",
            "4      25.228701  25.197054  23.965014  24.772843  ...  15.607359  14.901607   \n",
            "...          ...        ...        ...        ...  ...        ...        ...   \n",
            "84415  25.988042  24.543296  24.114244  23.594466  ...  17.623069  16.685484   \n",
            "84416  24.725051  24.137611  23.780623  23.641551  ...  15.331240  15.433497   \n",
            "84417  26.331212  25.336505  25.669660  25.430174  ...  17.168752  16.529025   \n",
            "84418  25.016382  23.578421  23.148784  22.691258  ...  17.038725  16.089565   \n",
            "84419  24.719757  24.734711  24.032510  23.248563  ...  17.407685  16.127665   \n",
            "\n",
            "            f302       f303       f304       f305       f306       f307  \\\n",
            "0      17.872499  17.980877  17.979966  19.656021  18.261276  17.324351   \n",
            "1      16.093985  16.593162  17.477773  18.801658  18.194100  17.103580   \n",
            "2      17.690288  17.704465  17.702160  17.728669  17.515634  17.151200   \n",
            "3      16.272501  16.438723  16.864370  17.080390  16.740298  16.618679   \n",
            "4      15.220463  16.225270  16.224320  15.714530  15.699682  15.575062   \n",
            "...          ...        ...        ...        ...        ...        ...   \n",
            "84415  19.055022  19.071469  19.079226  17.705068  17.736913  17.382326   \n",
            "84416  15.545605  15.739434  16.031754  16.182000  15.909962  15.779815   \n",
            "84417  16.901688  18.016126  18.102077  17.142655  17.059666  17.433852   \n",
            "84418  18.121612  18.137841  18.148698  17.254702  17.266143  16.892170   \n",
            "84419  17.520758  17.550932  17.544487  17.677182  17.425449  16.874000   \n",
            "\n",
            "            f308       f309  \n",
            "0      17.891634  17.912684  \n",
            "1      16.699540  17.235505  \n",
            "2      17.686020  17.526882  \n",
            "3      16.774128  17.046412  \n",
            "4      15.633944  16.042489  \n",
            "...          ...        ...  \n",
            "84415  19.050698  18.741863  \n",
            "84416  15.886180  16.060224  \n",
            "84417  17.250992  17.249060  \n",
            "84418  18.129575  18.084000  \n",
            "84419  17.526989  17.400475  \n",
            "\n",
            "[84420 rows x 310 columns]\n"
          ]
        },
        {
          "output_type": "stream",
          "name": "stderr",
          "text": [
            "/usr/local/lib/python3.9/dist-packages/pymrmre/MrmreData.py:19: FutureWarning: The default dtype for empty Series will be 'object' instead of 'float64' in a future version. Specify a dtype explicitly to silence this warning.\n",
            "  self._feature_types  = pd.Series()\n",
            "/usr/local/lib/python3.9/dist-packages/pymrmre/MrmreData.py:20: FutureWarning: The default dtype for empty Series will be 'object' instead of 'float64' in a future version. Specify a dtype explicitly to silence this warning.\n",
            "  self._strata         = pd.Series()\n",
            "/usr/local/lib/python3.9/dist-packages/pymrmre/MrmreData.py:21: FutureWarning: The default dtype for empty Series will be 'object' instead of 'float64' in a future version. Specify a dtype explicitly to silence this warning.\n",
            "  self._weights        = pd.Series()\n",
            "/usr/local/lib/python3.9/dist-packages/pymrmre/MrmreFilter.py:24: FutureWarning: The default dtype for empty Series will be 'object' instead of 'float64' in a future version. Specify a dtype explicitly to silence this warning.\n",
            "  self._filters = pd.Series()\n",
            "/usr/local/lib/python3.9/dist-packages/pymrmre/MrmreFilter.py:25: FutureWarning: The default dtype for empty Series will be 'object' instead of 'float64' in a future version. Specify a dtype explicitly to silence this warning.\n",
            "  self._scores = pd.Series()\n",
            "/usr/local/lib/python3.9/dist-packages/pymrmre/MrmreFilter.py:26: FutureWarning: The default dtype for empty Series will be 'object' instead of 'float64' in a future version. Specify a dtype explicitly to silence this warning.\n",
            "  self._causality_list = pd.Series()\n"
          ]
        }
      ],
      "source": [
        "from pymrmre import mrmr\n",
        "import pandas as pd\n",
        "import numpy as np \n",
        "\n",
        "\n",
        "train_x = pd.DataFrame(train_x) \n",
        "train_label = pd.DataFrame(train_label)\n",
        "\n",
        "mu, sigma = 0, 0.1 \n",
        "noise = np.random.normal(mu, sigma, [2,2])\n",
        "\n",
        "train_x=train_x.add_prefix('f')\n",
        "print(train_x)\n",
        "solutions = mrmr.mrmr_ensemble(features=train_x,targets=train_label,solution_length=90,solution_count=3).to_numpy()"
      ]
    },
    {
      "cell_type": "markdown",
      "source": [
        "\n",
        "\n",
        "```\n",
        "# Model 1\n",
        "```\n",
        "\n"
      ],
      "metadata": {
        "id": "Qmf3PVqDGFUf"
      }
    },
    {
      "cell_type": "code",
      "source": [
        "from sklearn import svm\n",
        "model1 = svm.SVC()\n",
        "model1.fit(train_x, train_label.values.ravel())"
      ],
      "metadata": {
        "colab": {
          "base_uri": "https://localhost:8080/",
          "height": 74
        },
        "id": "gkTo54KpGhUS",
        "outputId": "7f8863bf-2739-42ee-ec48-2ec1ef12d466"
      },
      "execution_count": null,
      "outputs": [
        {
          "output_type": "execute_result",
          "data": {
            "text/plain": [
              "SVC()"
            ],
            "text/html": [
              "<style>#sk-container-id-1 {color: black;background-color: white;}#sk-container-id-1 pre{padding: 0;}#sk-container-id-1 div.sk-toggleable {background-color: white;}#sk-container-id-1 label.sk-toggleable__label {cursor: pointer;display: block;width: 100%;margin-bottom: 0;padding: 0.3em;box-sizing: border-box;text-align: center;}#sk-container-id-1 label.sk-toggleable__label-arrow:before {content: \"▸\";float: left;margin-right: 0.25em;color: #696969;}#sk-container-id-1 label.sk-toggleable__label-arrow:hover:before {color: black;}#sk-container-id-1 div.sk-estimator:hover label.sk-toggleable__label-arrow:before {color: black;}#sk-container-id-1 div.sk-toggleable__content {max-height: 0;max-width: 0;overflow: hidden;text-align: left;background-color: #f0f8ff;}#sk-container-id-1 div.sk-toggleable__content pre {margin: 0.2em;color: black;border-radius: 0.25em;background-color: #f0f8ff;}#sk-container-id-1 input.sk-toggleable__control:checked~div.sk-toggleable__content {max-height: 200px;max-width: 100%;overflow: auto;}#sk-container-id-1 input.sk-toggleable__control:checked~label.sk-toggleable__label-arrow:before {content: \"▾\";}#sk-container-id-1 div.sk-estimator input.sk-toggleable__control:checked~label.sk-toggleable__label {background-color: #d4ebff;}#sk-container-id-1 div.sk-label input.sk-toggleable__control:checked~label.sk-toggleable__label {background-color: #d4ebff;}#sk-container-id-1 input.sk-hidden--visually {border: 0;clip: rect(1px 1px 1px 1px);clip: rect(1px, 1px, 1px, 1px);height: 1px;margin: -1px;overflow: hidden;padding: 0;position: absolute;width: 1px;}#sk-container-id-1 div.sk-estimator {font-family: monospace;background-color: #f0f8ff;border: 1px dotted black;border-radius: 0.25em;box-sizing: border-box;margin-bottom: 0.5em;}#sk-container-id-1 div.sk-estimator:hover {background-color: #d4ebff;}#sk-container-id-1 div.sk-parallel-item::after {content: \"\";width: 100%;border-bottom: 1px solid gray;flex-grow: 1;}#sk-container-id-1 div.sk-label:hover label.sk-toggleable__label {background-color: #d4ebff;}#sk-container-id-1 div.sk-serial::before {content: \"\";position: absolute;border-left: 1px solid gray;box-sizing: border-box;top: 0;bottom: 0;left: 50%;z-index: 0;}#sk-container-id-1 div.sk-serial {display: flex;flex-direction: column;align-items: center;background-color: white;padding-right: 0.2em;padding-left: 0.2em;position: relative;}#sk-container-id-1 div.sk-item {position: relative;z-index: 1;}#sk-container-id-1 div.sk-parallel {display: flex;align-items: stretch;justify-content: center;background-color: white;position: relative;}#sk-container-id-1 div.sk-item::before, #sk-container-id-1 div.sk-parallel-item::before {content: \"\";position: absolute;border-left: 1px solid gray;box-sizing: border-box;top: 0;bottom: 0;left: 50%;z-index: -1;}#sk-container-id-1 div.sk-parallel-item {display: flex;flex-direction: column;z-index: 1;position: relative;background-color: white;}#sk-container-id-1 div.sk-parallel-item:first-child::after {align-self: flex-end;width: 50%;}#sk-container-id-1 div.sk-parallel-item:last-child::after {align-self: flex-start;width: 50%;}#sk-container-id-1 div.sk-parallel-item:only-child::after {width: 0;}#sk-container-id-1 div.sk-dashed-wrapped {border: 1px dashed gray;margin: 0 0.4em 0.5em 0.4em;box-sizing: border-box;padding-bottom: 0.4em;background-color: white;}#sk-container-id-1 div.sk-label label {font-family: monospace;font-weight: bold;display: inline-block;line-height: 1.2em;}#sk-container-id-1 div.sk-label-container {text-align: center;}#sk-container-id-1 div.sk-container {/* jupyter's `normalize.less` sets `[hidden] { display: none; }` but bootstrap.min.css set `[hidden] { display: none !important; }` so we also need the `!important` here to be able to override the default hidden behavior on the sphinx rendered scikit-learn.org. See: https://github.com/scikit-learn/scikit-learn/issues/21755 */display: inline-block !important;position: relative;}#sk-container-id-1 div.sk-text-repr-fallback {display: none;}</style><div id=\"sk-container-id-1\" class=\"sk-top-container\"><div class=\"sk-text-repr-fallback\"><pre>SVC()</pre><b>In a Jupyter environment, please rerun this cell to show the HTML representation or trust the notebook. <br />On GitHub, the HTML representation is unable to render, please try loading this page with nbviewer.org.</b></div><div class=\"sk-container\" hidden><div class=\"sk-item\"><div class=\"sk-estimator sk-toggleable\"><input class=\"sk-toggleable__control sk-hidden--visually\" id=\"sk-estimator-id-1\" type=\"checkbox\" checked><label for=\"sk-estimator-id-1\" class=\"sk-toggleable__label sk-toggleable__label-arrow\">SVC</label><div class=\"sk-toggleable__content\"><pre>SVC()</pre></div></div></div></div></div>"
            ]
          },
          "metadata": {},
          "execution_count": 17
        }
      ]
    },
    {
      "cell_type": "code",
      "execution_count": null,
      "metadata": {
        "id": "ed52686b",
        "outputId": "2c3059f5-336a-4072-8965-7f0f27863bff",
        "colab": {
          "base_uri": "https://localhost:8080/"
        }
      },
      "outputs": [
        {
          "output_type": "stream",
          "name": "stdout",
          "text": [
            "SVC()\n"
          ]
        },
        {
          "output_type": "stream",
          "name": "stderr",
          "text": [
            "/usr/local/lib/python3.9/dist-packages/sklearn/base.py:439: UserWarning: X does not have valid feature names, but SVC was fitted with feature names\n",
            "  warnings.warn(\n"
          ]
        }
      ],
      "source": [
        "print(model1)\n",
        "result1 = model1.predict(test_x)"
      ]
    },
    {
      "cell_type": "code",
      "execution_count": null,
      "metadata": {
        "colab": {
          "base_uri": "https://localhost:8080/",
          "height": 74
        },
        "id": "GbPqr0vpOPpz",
        "outputId": "0ae61d19-795f-4119-eaa3-b4ae31146c30"
      },
      "outputs": [
        {
          "output_type": "execute_result",
          "data": {
            "text/plain": [
              "SVC()"
            ],
            "text/html": [
              "<style>#sk-container-id-3 {color: black;background-color: white;}#sk-container-id-3 pre{padding: 0;}#sk-container-id-3 div.sk-toggleable {background-color: white;}#sk-container-id-3 label.sk-toggleable__label {cursor: pointer;display: block;width: 100%;margin-bottom: 0;padding: 0.3em;box-sizing: border-box;text-align: center;}#sk-container-id-3 label.sk-toggleable__label-arrow:before {content: \"▸\";float: left;margin-right: 0.25em;color: #696969;}#sk-container-id-3 label.sk-toggleable__label-arrow:hover:before {color: black;}#sk-container-id-3 div.sk-estimator:hover label.sk-toggleable__label-arrow:before {color: black;}#sk-container-id-3 div.sk-toggleable__content {max-height: 0;max-width: 0;overflow: hidden;text-align: left;background-color: #f0f8ff;}#sk-container-id-3 div.sk-toggleable__content pre {margin: 0.2em;color: black;border-radius: 0.25em;background-color: #f0f8ff;}#sk-container-id-3 input.sk-toggleable__control:checked~div.sk-toggleable__content {max-height: 200px;max-width: 100%;overflow: auto;}#sk-container-id-3 input.sk-toggleable__control:checked~label.sk-toggleable__label-arrow:before {content: \"▾\";}#sk-container-id-3 div.sk-estimator input.sk-toggleable__control:checked~label.sk-toggleable__label {background-color: #d4ebff;}#sk-container-id-3 div.sk-label input.sk-toggleable__control:checked~label.sk-toggleable__label {background-color: #d4ebff;}#sk-container-id-3 input.sk-hidden--visually {border: 0;clip: rect(1px 1px 1px 1px);clip: rect(1px, 1px, 1px, 1px);height: 1px;margin: -1px;overflow: hidden;padding: 0;position: absolute;width: 1px;}#sk-container-id-3 div.sk-estimator {font-family: monospace;background-color: #f0f8ff;border: 1px dotted black;border-radius: 0.25em;box-sizing: border-box;margin-bottom: 0.5em;}#sk-container-id-3 div.sk-estimator:hover {background-color: #d4ebff;}#sk-container-id-3 div.sk-parallel-item::after {content: \"\";width: 100%;border-bottom: 1px solid gray;flex-grow: 1;}#sk-container-id-3 div.sk-label:hover label.sk-toggleable__label {background-color: #d4ebff;}#sk-container-id-3 div.sk-serial::before {content: \"\";position: absolute;border-left: 1px solid gray;box-sizing: border-box;top: 0;bottom: 0;left: 50%;z-index: 0;}#sk-container-id-3 div.sk-serial {display: flex;flex-direction: column;align-items: center;background-color: white;padding-right: 0.2em;padding-left: 0.2em;position: relative;}#sk-container-id-3 div.sk-item {position: relative;z-index: 1;}#sk-container-id-3 div.sk-parallel {display: flex;align-items: stretch;justify-content: center;background-color: white;position: relative;}#sk-container-id-3 div.sk-item::before, #sk-container-id-3 div.sk-parallel-item::before {content: \"\";position: absolute;border-left: 1px solid gray;box-sizing: border-box;top: 0;bottom: 0;left: 50%;z-index: -1;}#sk-container-id-3 div.sk-parallel-item {display: flex;flex-direction: column;z-index: 1;position: relative;background-color: white;}#sk-container-id-3 div.sk-parallel-item:first-child::after {align-self: flex-end;width: 50%;}#sk-container-id-3 div.sk-parallel-item:last-child::after {align-self: flex-start;width: 50%;}#sk-container-id-3 div.sk-parallel-item:only-child::after {width: 0;}#sk-container-id-3 div.sk-dashed-wrapped {border: 1px dashed gray;margin: 0 0.4em 0.5em 0.4em;box-sizing: border-box;padding-bottom: 0.4em;background-color: white;}#sk-container-id-3 div.sk-label label {font-family: monospace;font-weight: bold;display: inline-block;line-height: 1.2em;}#sk-container-id-3 div.sk-label-container {text-align: center;}#sk-container-id-3 div.sk-container {/* jupyter's `normalize.less` sets `[hidden] { display: none; }` but bootstrap.min.css set `[hidden] { display: none !important; }` so we also need the `!important` here to be able to override the default hidden behavior on the sphinx rendered scikit-learn.org. See: https://github.com/scikit-learn/scikit-learn/issues/21755 */display: inline-block !important;position: relative;}#sk-container-id-3 div.sk-text-repr-fallback {display: none;}</style><div id=\"sk-container-id-3\" class=\"sk-top-container\"><div class=\"sk-text-repr-fallback\"><pre>SVC()</pre><b>In a Jupyter environment, please rerun this cell to show the HTML representation or trust the notebook. <br />On GitHub, the HTML representation is unable to render, please try loading this page with nbviewer.org.</b></div><div class=\"sk-container\" hidden><div class=\"sk-item\"><div class=\"sk-estimator sk-toggleable\"><input class=\"sk-toggleable__control sk-hidden--visually\" id=\"sk-estimator-id-3\" type=\"checkbox\" checked><label for=\"sk-estimator-id-3\" class=\"sk-toggleable__label sk-toggleable__label-arrow\">SVC</label><div class=\"sk-toggleable__content\"><pre>SVC()</pre></div></div></div></div></div>"
            ]
          },
          "metadata": {},
          "execution_count": 21
        }
      ],
      "source": [
        "model2 = svm.SVC()\n",
        "model2.fit(train_x, train_label.values.ravel())"
      ]
    },
    {
      "cell_type": "code",
      "source": [
        "model3 = svm.SVC()\n",
        "model3.fit(train_x, train_label.values.ravel())"
      ],
      "metadata": {
        "id": "rf7z23e2OPp0",
        "colab": {
          "base_uri": "https://localhost:8080/",
          "height": 74
        },
        "outputId": "8d77ef55-0aa6-47e6-b605-eae99f251010"
      },
      "execution_count": null,
      "outputs": [
        {
          "output_type": "execute_result",
          "data": {
            "text/plain": [
              "SVC()"
            ],
            "text/html": [
              "<style>#sk-container-id-5 {color: black;background-color: white;}#sk-container-id-5 pre{padding: 0;}#sk-container-id-5 div.sk-toggleable {background-color: white;}#sk-container-id-5 label.sk-toggleable__label {cursor: pointer;display: block;width: 100%;margin-bottom: 0;padding: 0.3em;box-sizing: border-box;text-align: center;}#sk-container-id-5 label.sk-toggleable__label-arrow:before {content: \"▸\";float: left;margin-right: 0.25em;color: #696969;}#sk-container-id-5 label.sk-toggleable__label-arrow:hover:before {color: black;}#sk-container-id-5 div.sk-estimator:hover label.sk-toggleable__label-arrow:before {color: black;}#sk-container-id-5 div.sk-toggleable__content {max-height: 0;max-width: 0;overflow: hidden;text-align: left;background-color: #f0f8ff;}#sk-container-id-5 div.sk-toggleable__content pre {margin: 0.2em;color: black;border-radius: 0.25em;background-color: #f0f8ff;}#sk-container-id-5 input.sk-toggleable__control:checked~div.sk-toggleable__content {max-height: 200px;max-width: 100%;overflow: auto;}#sk-container-id-5 input.sk-toggleable__control:checked~label.sk-toggleable__label-arrow:before {content: \"▾\";}#sk-container-id-5 div.sk-estimator input.sk-toggleable__control:checked~label.sk-toggleable__label {background-color: #d4ebff;}#sk-container-id-5 div.sk-label input.sk-toggleable__control:checked~label.sk-toggleable__label {background-color: #d4ebff;}#sk-container-id-5 input.sk-hidden--visually {border: 0;clip: rect(1px 1px 1px 1px);clip: rect(1px, 1px, 1px, 1px);height: 1px;margin: -1px;overflow: hidden;padding: 0;position: absolute;width: 1px;}#sk-container-id-5 div.sk-estimator {font-family: monospace;background-color: #f0f8ff;border: 1px dotted black;border-radius: 0.25em;box-sizing: border-box;margin-bottom: 0.5em;}#sk-container-id-5 div.sk-estimator:hover {background-color: #d4ebff;}#sk-container-id-5 div.sk-parallel-item::after {content: \"\";width: 100%;border-bottom: 1px solid gray;flex-grow: 1;}#sk-container-id-5 div.sk-label:hover label.sk-toggleable__label {background-color: #d4ebff;}#sk-container-id-5 div.sk-serial::before {content: \"\";position: absolute;border-left: 1px solid gray;box-sizing: border-box;top: 0;bottom: 0;left: 50%;z-index: 0;}#sk-container-id-5 div.sk-serial {display: flex;flex-direction: column;align-items: center;background-color: white;padding-right: 0.2em;padding-left: 0.2em;position: relative;}#sk-container-id-5 div.sk-item {position: relative;z-index: 1;}#sk-container-id-5 div.sk-parallel {display: flex;align-items: stretch;justify-content: center;background-color: white;position: relative;}#sk-container-id-5 div.sk-item::before, #sk-container-id-5 div.sk-parallel-item::before {content: \"\";position: absolute;border-left: 1px solid gray;box-sizing: border-box;top: 0;bottom: 0;left: 50%;z-index: -1;}#sk-container-id-5 div.sk-parallel-item {display: flex;flex-direction: column;z-index: 1;position: relative;background-color: white;}#sk-container-id-5 div.sk-parallel-item:first-child::after {align-self: flex-end;width: 50%;}#sk-container-id-5 div.sk-parallel-item:last-child::after {align-self: flex-start;width: 50%;}#sk-container-id-5 div.sk-parallel-item:only-child::after {width: 0;}#sk-container-id-5 div.sk-dashed-wrapped {border: 1px dashed gray;margin: 0 0.4em 0.5em 0.4em;box-sizing: border-box;padding-bottom: 0.4em;background-color: white;}#sk-container-id-5 div.sk-label label {font-family: monospace;font-weight: bold;display: inline-block;line-height: 1.2em;}#sk-container-id-5 div.sk-label-container {text-align: center;}#sk-container-id-5 div.sk-container {/* jupyter's `normalize.less` sets `[hidden] { display: none; }` but bootstrap.min.css set `[hidden] { display: none !important; }` so we also need the `!important` here to be able to override the default hidden behavior on the sphinx rendered scikit-learn.org. See: https://github.com/scikit-learn/scikit-learn/issues/21755 */display: inline-block !important;position: relative;}#sk-container-id-5 div.sk-text-repr-fallback {display: none;}</style><div id=\"sk-container-id-5\" class=\"sk-top-container\"><div class=\"sk-text-repr-fallback\"><pre>SVC()</pre><b>In a Jupyter environment, please rerun this cell to show the HTML representation or trust the notebook. <br />On GitHub, the HTML representation is unable to render, please try loading this page with nbviewer.org.</b></div><div class=\"sk-container\" hidden><div class=\"sk-item\"><div class=\"sk-estimator sk-toggleable\"><input class=\"sk-toggleable__control sk-hidden--visually\" id=\"sk-estimator-id-5\" type=\"checkbox\" checked><label for=\"sk-estimator-id-5\" class=\"sk-toggleable__label sk-toggleable__label-arrow\">SVC</label><div class=\"sk-toggleable__content\"><pre>SVC()</pre></div></div></div></div></div>"
            ]
          },
          "metadata": {},
          "execution_count": 27
        }
      ]
    },
    {
      "cell_type": "code",
      "source": [
        "result2 = model2.predict(test_x)\n",
        "result3 = model3.predict(test_x)\n"
      ],
      "metadata": {
        "id": "2Cdx4EZfOPp1",
        "colab": {
          "base_uri": "https://localhost:8080/"
        },
        "outputId": "6cad2d45-cf06-4592-b35b-589fe7baf1f1"
      },
      "execution_count": null,
      "outputs": [
        {
          "output_type": "stream",
          "name": "stderr",
          "text": [
            "/usr/local/lib/python3.9/dist-packages/sklearn/base.py:439: UserWarning: X does not have valid feature names, but SVC was fitted with feature names\n",
            "  warnings.warn(\n",
            "/usr/local/lib/python3.9/dist-packages/sklearn/base.py:439: UserWarning: X does not have valid feature names, but SVC was fitted with feature names\n",
            "  warnings.warn(\n"
          ]
        }
      ]
    },
    {
      "cell_type": "code",
      "source": [
        "from sklearn.metrics import confusion_matrix, accuracy_score\n",
        "\n",
        "print(\"Model - 1\")\n",
        "cm1 = confusion_matrix(Y_test, result1)\n",
        "acc1=accuracy_score(Y_test, result1)\n",
        "cm2 = confusion_matrix(Y_test, result2)\n",
        "acc2=accuracy_score(Y_test, result2)\n",
        "cm3 = confusion_matrix(Y_test, result3)\n",
        "acc3=accuracy_score(Y_test, result3)\n",
        "print(cm1)\n",
        "print(acc1)\n",
        "print(\"Model - 2\")\n",
        "print(cm2)\n",
        "print(acc2)\n",
        "print(\"Model - 3\")\n",
        "print(cm3)\n",
        "print(acc3)"
      ],
      "metadata": {
        "id": "O2fUPyfqOtEV",
        "colab": {
          "base_uri": "https://localhost:8080/"
        },
        "outputId": "ca8d011f-ba69-4d3f-a41b-1247817a5754"
      },
      "execution_count": null,
      "outputs": [
        {
          "output_type": "stream",
          "name": "stdout",
          "text": [
            "Model - 1\n",
            "[[ 8429  8012  1997]\n",
            " [ 1901 17011   828]\n",
            " [ 1107  1051 17792]]\n",
            "0.74373795761079\n",
            "Model - 2\n",
            "[[ 8429  8012  1997]\n",
            " [ 1901 17011   828]\n",
            " [ 1107  1051 17792]]\n",
            "0.74373795761079\n",
            "Model - 3\n",
            "[[ 8429  8012  1997]\n",
            " [ 1901 17011   828]\n",
            " [ 1107  1051 17792]]\n",
            "0.74373795761079\n"
          ]
        }
      ]
    },
    {
      "cell_type": "code",
      "source": [
        "print(\"Average accuracy: {}\".format((acc1+acc2+acc3)/3))"
      ],
      "metadata": {
        "id": "IAvReQrlOPp1",
        "colab": {
          "base_uri": "https://localhost:8080/"
        },
        "outputId": "3be88fab-c221-48f8-9e9e-252f5b7a19fc"
      },
      "execution_count": null,
      "outputs": [
        {
          "output_type": "stream",
          "name": "stdout",
          "text": [
            "Average accuracy: 0.74373795761079\n"
          ]
        }
      ]
    },
    {
      "cell_type": "code",
      "source": [],
      "metadata": {
        "id": "rwkUmVI-jR7e"
      },
      "execution_count": null,
      "outputs": []
    }
  ]
}